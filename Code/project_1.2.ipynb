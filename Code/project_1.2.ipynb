{
 "cells": [
  {
   "cell_type": "code",
   "execution_count": 1,
   "metadata": {},
   "outputs": [
    {
     "ename": "ImportError",
     "evalue": "No module named imblearn.over_sampling",
     "output_type": "error",
     "traceback": [
      "\u001b[0;31m---------------------------------------------------------------------------\u001b[0m",
      "\u001b[0;31mImportError\u001b[0m                               Traceback (most recent call last)",
      "\u001b[0;32m<ipython-input-1-cf10841993ca>\u001b[0m in \u001b[0;36m<module>\u001b[0;34m()\u001b[0m\n\u001b[1;32m      6\u001b[0m \u001b[0;32mfrom\u001b[0m \u001b[0mscipy\u001b[0m\u001b[0;34m.\u001b[0m\u001b[0mstats\u001b[0m \u001b[0;32mimport\u001b[0m \u001b[0mchisquare\u001b[0m\u001b[0;34m\u001b[0m\u001b[0m\n\u001b[1;32m      7\u001b[0m \u001b[0;32mfrom\u001b[0m \u001b[0msklearn\u001b[0m\u001b[0;34m.\u001b[0m\u001b[0msvm\u001b[0m \u001b[0;32mimport\u001b[0m \u001b[0mSVC\u001b[0m\u001b[0;34m\u001b[0m\u001b[0m\n\u001b[0;32m----> 8\u001b[0;31m \u001b[0;32mfrom\u001b[0m \u001b[0mimblearn\u001b[0m\u001b[0;34m.\u001b[0m\u001b[0mover_sampling\u001b[0m \u001b[0;32mimport\u001b[0m \u001b[0mRandomOverSampler\u001b[0m\u001b[0;34m\u001b[0m\u001b[0m\n\u001b[0m\u001b[1;32m      9\u001b[0m \u001b[0;32mfrom\u001b[0m \u001b[0msklearn\u001b[0m \u001b[0;32mimport\u001b[0m \u001b[0mmetrics\u001b[0m\u001b[0;34m\u001b[0m\u001b[0m\n\u001b[1;32m     10\u001b[0m \u001b[0;34m\u001b[0m\u001b[0m\n",
      "\u001b[0;31mImportError\u001b[0m: No module named imblearn.over_sampling"
     ]
    }
   ],
   "source": [
    "import numpy as np\n",
    "import pandas as pd\n",
    "from pandas import DataFrame, Series\n",
    "from sklearn.ensemble import RandomForestClassifier\n",
    "from sklearn.model_selection import train_test_split\n",
    "from scipy.stats import chisquare\n",
    "from sklearn.svm import SVC\n",
    "from imblearn.over_sampling import RandomOverSampler\n",
    "from sklearn import metrics\n",
    "\n",
    "from scipy import interp"
   ]
  },
  {
   "cell_type": "code",
   "execution_count": 3,
   "metadata": {},
   "outputs": [],
   "source": [
    "data = pd.read_csv(\"34933-0001-Data.tsv\", sep = '\\t')"
   ]
  },
  {
   "cell_type": "code",
   "execution_count": 6,
   "metadata": {
    "collapsed": true
   },
   "outputs": [],
   "source": [
    "var = ['MJEVER','CADRLAST', 'IRHHSIZ2', 'IRKI17_2', 'IRHH65_2', 'IMOTHER', 'IFATHER', \n",
    "       'GOVTPROG', 'INCOME', 'YMDELT', 'YSDSOVRL', 'ANYHLTI2', 'CATAG7', 'HEALTH2', \n",
    "       'IRSEX', 'NEWRACE2', 'MOVESPY2', 'SCHENRL', 'SCHDSICK', 'SCHDSKIP'\n",
    "       ,'WRKHAVJB','YESCHFLT','YELSTGRD', 'YEYFGTSW', 'YEYARGUP', 'YEPMJEVR', 'YEPRBSLV','YEDERGLR', \n",
    "        'YUMHCRYR', 'YUTPSTYR', 'YUSCEMYR']"
   ]
  },
  {
   "cell_type": "code",
   "execution_count": 7,
   "metadata": {},
   "outputs": [
    {
     "data": {
      "text/plain": [
       "31"
      ]
     },
     "execution_count": 7,
     "metadata": {},
     "output_type": "execute_result"
    }
   ],
   "source": [
    "len(var)"
   ]
  },
  {
   "cell_type": "code",
   "execution_count": 12,
   "metadata": {
    "collapsed": true
   },
   "outputs": [],
   "source": [
    "data = data.loc[data['CATAG7']<4, var]\n",
    "# MJEVER 1.yes 2.no\n",
    "data = data.loc[data['MJEVER']<3]"
   ]
  },
  {
   "cell_type": "code",
   "execution_count": 13,
   "metadata": {
    "collapsed": true
   },
   "outputs": [],
   "source": [
    "#drink time in past 30 days 0-30\n",
    "data.loc[data['CADRLAST']==991, 'CADRLAST'] = 0 #never used alcohol\n",
    "data.loc[data['CADRLAST']==993, 'CADRLAST'] = 0 #did not use alcohol in past 30\n",
    "data.loc[data['CADRLAST']==985, 'CADRLAST'] = np.nan # bad data\n",
    "data.loc[data['CADRLAST']==994, 'CADRLAST'] = np.nan #dont know \n",
    "data.loc[data['CADRLAST']==997, 'CADRLAST'] = np.nan #refused\n",
    "data.loc[data['CADRLAST']==998, 'CADRLAST'] = np.nan #blank\n",
    "data['CADRLAST'] = data['CADRLAST'].fillna(data['CADRLAST'].mean()) #all filled with mean"
   ]
  },
  {
   "cell_type": "code",
   "execution_count": 14,
   "metadata": {
    "collapsed": true
   },
   "outputs": [],
   "source": [
    "# don't know whether father/mother is in household\n",
    "#1.yes 2.no\n",
    "data.loc[data['IMOTHER']==3, 'IMOTHER'] = np.nan # dont know\n",
    "data.loc[data['IFATHER']==3, 'IFATHER'] = np.nan\n",
    "data['IMOTHER'] = data['IMOTHER'].fillna(data['IMOTHER'].mode().loc[0])\n",
    "data['IFATHER'] = data['IFATHER'].fillna(data['IFATHER'].mode().loc[0])"
   ]
  },
  {
   "cell_type": "code",
   "execution_count": 15,
   "metadata": {
    "collapsed": true
   },
   "outputs": [],
   "source": [
    "# lifetime major depressive episode\n",
    "# 1.yes 2.no\n",
    "data.loc[data['YMDELT']==-9, 'YMDELT'] = np.nan # UNKNOWN\n",
    "data['YMDELT'] = data['YMDELT'].fillna(data['YMDELT'].mode().loc[0])"
   ]
  },
  {
   "cell_type": "code",
   "execution_count": 16,
   "metadata": {
    "collapsed": true
   },
   "outputs": [],
   "source": [
    "# severity level of med role impairment\n",
    "#1.none 2.mild 3.moderate 4. severe 5.very severe\n",
    "data.loc[data['YSDSOVRL']==-9, 'YSDSOVRL'] = 1 #unkown\n",
    "data['YSDSOVRL'] = data['YSDSOVRL'].fillna(data['YSDSOVRL'].mode().loc[0])"
   ]
  },
  {
   "cell_type": "code",
   "execution_count": 17,
   "metadata": {
    "collapsed": true
   },
   "outputs": [],
   "source": [
    "#covered by any health insurance 1.yes 2.no\n",
    "data.loc[data['ANYHLTI2']==94, 'ANYHLTI2'] = np.nan #dont know\n",
    "data.loc[data['ANYHLTI2']==97, 'ANYHLTI2'] = np.nan #refused\n",
    "data.loc[data['ANYHLTI2']==98, 'ANYHLTI2'] = np.nan #other missing (few)\n",
    "data['ANYHLTI2'] = data['ANYHLTI2'].fillna(data['ANYHLTI2'].mode().loc[0])"
   ]
  },
  {
   "cell_type": "code",
   "execution_count": 18,
   "metadata": {
    "collapsed": true
   },
   "outputs": [],
   "source": [
    "# health condition 1.excellet 2.very good 3.good 4.fair\n",
    "data.loc[data['HEALTH2']==-9, 'HEALTH2'] = np.nan #UNKNOWN\n",
    "data['HEALTH2'] = data['HEALTH2'].fillna(data['HEALTH2'].mode().loc[0])"
   ]
  },
  {
   "cell_type": "code",
   "execution_count": 19,
   "metadata": {
    "collapsed": true
   },
   "outputs": [],
   "source": [
    "# time moved past 12 month 0,1,2,3\n",
    "data.loc[data['MOVESPY2']==994, 'MOVESPY2'] = np.nan\n",
    "data.loc[data['MOVESPY2']==997, 'MOVESPY2'] = np.nan\n",
    "data.loc[data['MOVESPY2']==998, 'MOVESPY2'] = np.nan\n",
    "data['MOVESPY2'] = data['MOVESPY2'].fillna(data['MOVESPY2'].mode().loc[0])"
   ]
  },
  {
   "cell_type": "code",
   "execution_count": 20,
   "metadata": {
    "collapsed": true
   },
   "outputs": [],
   "source": [
    "#now enrolled in any school 1.yes 2.no\n",
    "data.loc[data['SCHENRL']==11, 'SCHENRL'] = 1"
   ]
  },
  {
   "cell_type": "code",
   "execution_count": 21,
   "metadata": {
    "collapsed": true
   },
   "outputs": [],
   "source": [
    "# miss school from sick 0-30\n",
    "data.loc[data['SCHDSICK']==90, 'SCHDSICK'] = np.nan\n",
    "data.loc[data['SCHDSICK']==94, 'SCHDSICK'] = np.nan\n",
    "data.loc[data['SCHDSICK']==97, 'SCHDSICK'] = np.nan\n",
    "data.loc[data['SCHDSICK']==98, 'SCHDSICK'] = np.nan\n",
    "data.loc[data['SCHDSICK']==99, 'SCHDSICK'] = np.nan\n",
    "data['SCHDSICK'] = data['SCHDSICK'].fillna(data['SCHDSICK'].mean())"
   ]
  },
  {
   "cell_type": "code",
   "execution_count": 22,
   "metadata": {
    "collapsed": true
   },
   "outputs": [],
   "source": [
    "# miss school because of skipping 0-30\n",
    "data.loc[data['SCHDSKIP']==94, 'SCHDSKIP'] = np.nan\n",
    "data.loc[data['SCHDSKIP']==97, 'SCHDSKIP'] = np.nan\n",
    "data.loc[data['SCHDSKIP']==98, 'SCHDSKIP'] = np.nan\n",
    "data.loc[data['SCHDSKIP']==99, 'SCHDSKIP'] = np.nan\n",
    "data['SCHDSKIP'] = data['SCHDSKIP'].fillna(data['SCHDSKIP'].mean())"
   ]
  },
  {
   "cell_type": "code",
   "execution_count": 23,
   "metadata": {},
   "outputs": [
    {
     "data": {
      "text/plain": [
       "Power_divergenceResult(statistic=762.63379358666418, pvalue=5.493413636929348e-165)"
      ]
     },
     "execution_count": 23,
     "metadata": {},
     "output_type": "execute_result"
    }
   ],
   "source": [
    "a = 1831\n",
    "b = 4862\n",
    "c = 1096\n",
    "d = 9007\n",
    "a_e = (a+c)*(a+b)/(a+b+c+d)\n",
    "b_e = a+b-a_e\n",
    "c_e = (a+c)*(c+d)/(a+b+c+d)\n",
    "d_e = c+d-c_e\n",
    "chisquare([a,b,c,d], f_exp=[a_e,b_e,c_e,d_e])"
   ]
  },
  {
   "cell_type": "code",
   "execution_count": 24,
   "metadata": {
    "collapsed": true
   },
   "outputs": [],
   "source": [
    "# whether have a job 1.yes 2.no 99. legitimate skip\n",
    "data.loc[data['WRKHAVJB']==99, 'WRKHAVJB'] = 99\n",
    "data.loc[data['WRKHAVJB']==94, 'WRKHAVJB'] = 2\n",
    "data.loc[data['WRKHAVJB']==97, 'WRKHAVJB'] = 2\n",
    "data.loc[data['WRKHAVJB']==98, 'WRKHAVJB'] = 2"
   ]
  },
  {
   "cell_type": "code",
   "execution_count": 25,
   "metadata": {},
   "outputs": [
    {
     "data": {
      "text/plain": [
       "Power_divergenceResult(statistic=36.885699314822226, pvalue=4.8648563915487467e-08)"
      ]
     },
     "execution_count": 25,
     "metadata": {},
     "output_type": "execute_result"
    }
   ],
   "source": [
    "a = 1366\n",
    "b = 6650\n",
    "c = 84\n",
    "d = 832\n",
    "a_e = (a+c)*(a+b)/(a+b+c+d)\n",
    "b_e = a+b-a_e\n",
    "c_e = (a+c)*(c+d)/(a+b+c+d)\n",
    "d_e = c+d-c_e\n",
    "chisquare([a,b,c,d], f_exp=[a_e,b_e,c_e,d_e])"
   ]
  },
  {
   "cell_type": "code",
   "execution_count": 26,
   "metadata": {
    "collapsed": true
   },
   "outputs": [],
   "source": [
    "# like to go to school 1.like a lot 2.kind of like \n",
    "# 3.didn't like 4.hate\n",
    "data.loc[data['YESCHFLT']==85, 'YESCHFLT'] = 2 #bad data\n",
    "data.loc[data['YESCHFLT']==94, 'YESCHFLT'] = 2 #dont known\n",
    "data.loc[data['YESCHFLT']==97, 'YESCHFLT'] = 2 #refused\n",
    "data.loc[data['YESCHFLT']==98, 'YESCHFLT'] = 2 #blank\n",
    "data.loc[data['YESCHFLT']==99, 'YESCHFLT'] = 99 #legitmate skip"
   ]
  },
  {
   "cell_type": "code",
   "execution_count": 27,
   "metadata": {},
   "outputs": [
    {
     "data": {
      "text/plain": [
       "Power_divergenceResult(statistic=39.705730099099938, pvalue=1.230066566937335e-08)"
      ]
     },
     "execution_count": 27,
     "metadata": {},
     "output_type": "execute_result"
    }
   ],
   "source": [
    "a = 1146\n",
    "b = 5416\n",
    "c = 84\n",
    "d = 832\n",
    "a_e = (a+c)*(a+b)/(a+b+c+d)\n",
    "b_e = a+b-a_e\n",
    "c_e = (a+c)*(c+d)/(a+b+c+d)\n",
    "d_e = c+d-c_e\n",
    "chisquare([a,b,c,d], f_exp=[a_e,b_e,c_e,d_e])"
   ]
  },
  {
   "cell_type": "code",
   "execution_count": 28,
   "metadata": {
    "collapsed": true
   },
   "outputs": [],
   "source": [
    "# GPA 1.A 2.B 3.C 4.D\n",
    "data.loc[data['YELSTGRD']==5, 'YELSTGRD'] = 2 #don't give these grads\n",
    "data.loc[data['YELSTGRD']==85, 'YELSTGRD'] = 2 #bad data\n",
    "data.loc[data['YELSTGRD']==94, 'YELSTGRD'] = 2 #dont know\n",
    "data.loc[data['YELSTGRD']==97, 'YELSTGRD'] = 2 #refused\n",
    "data.loc[data['YELSTGRD']==98, 'YELSTGRD'] = 2 #blank\n",
    "data.loc[data['YELSTGRD']==99, 'YELSTGRD'] = 99 #legitomate skip"
   ]
  },
  {
   "cell_type": "code",
   "execution_count": 29,
   "metadata": {
    "collapsed": true
   },
   "outputs": [],
   "source": [
    "# serious fight 1.0 2.1-2 3.3-5 4.6-9 5.>10\n",
    "data.loc[data['YEYFGTSW']==85, 'YEYFGTSW'] = np.nan #BAD DATA\n",
    "data.loc[data['YEYFGTSW']==94, 'YEYFGTSW'] = np.nan #dont know\n",
    "data.loc[data['YEYFGTSW']==97, 'YEYFGTSW'] = np.nan #refused\n",
    "data['YEYFGTSW'] = data['YEYFGTSW'].fillna(data['YEYFGTSW'].mode().loc[0])"
   ]
  },
  {
   "cell_type": "code",
   "execution_count": 30,
   "metadata": {
    "collapsed": true
   },
   "outputs": [],
   "source": [
    "# fight with parents 1.0 2.1-2 3.3-5 4.6-9 5.>10\n",
    "data.loc[data['YEYARGUP']==85, 'YEYARGUP'] = np.nan #bad data\n",
    "data.loc[data['YEYARGUP']==94, 'YEYARGUP'] = np.nan #dont know\n",
    "data.loc[data['YEYARGUP']==97, 'YEYARGUP'] = np.nan #refused\n",
    "data['YEYARGUP'] = data['YEYARGUP'].fillna(data['YEYARGUP'].mode().loc[0])"
   ]
  },
  {
   "cell_type": "code",
   "execution_count": 31,
   "metadata": {
    "collapsed": true
   },
   "outputs": [],
   "source": [
    "# parent attitude 1.whatever 2.somewhat dsiapprove 3.stongly disapprove\n",
    "data.loc[data['YEPMJEVR']==85, 'YEPMJEVR'] = np.nan #bad data\n",
    "data.loc[data['YEPMJEVR']==94, 'YEPMJEVR'] = np.nan # dont know\n",
    "data.loc[data['YEPMJEVR']==97, 'YEPMJEVR'] = np.nan #refused\n",
    "data['YEPMJEVR'] = data['YEPMJEVR'].fillna(data['YEPMJEVR'].mode().loc[0])"
   ]
  },
  {
   "cell_type": "code",
   "execution_count": 32,
   "metadata": {
    "collapsed": true
   },
   "outputs": [],
   "source": [
    "# communication group 1.yes 2.no\n",
    "data.loc[data['YEPRBSLV']==85, 'YEPRBSLV'] = np.nan #bad data\n",
    "data.loc[data['YEPRBSLV']==94, 'YEPRBSLV'] = np.nan #dont know\n",
    "data.loc[data['YEPRBSLV']==97, 'YEPRBSLV'] = np.nan #refused\n",
    "data['YEPRBSLV'] = data['YEPRBSLV'].fillna(data['YEPRBSLV'].mode().loc[0])"
   ]
  },
  {
   "cell_type": "code",
   "execution_count": 33,
   "metadata": {},
   "outputs": [
    {
     "data": {
      "text/plain": [
       "Power_divergenceResult(statistic=35.021573956119212, pvalue=1.2055308729300419e-07)"
      ]
     },
     "execution_count": 33,
     "metadata": {},
     "output_type": "execute_result"
    }
   ],
   "source": [
    "a = 1771\n",
    "b = 8825\n",
    "c = 84\n",
    "d = 832\n",
    "a_e = (a+c)*(a+b)/(a+b+c+d)\n",
    "b_e = a+b-a_e\n",
    "c_e = (a+c)*(c+d)/(a+b+c+d)\n",
    "d_e = c+d-c_e\n",
    "chisquare([a,b,c,d], f_exp=[a_e,b_e,c_e,d_e])"
   ]
  },
  {
   "cell_type": "code",
   "execution_count": 34,
   "metadata": {
    "collapsed": true
   },
   "outputs": [],
   "source": [
    "#info about drug 1.yes 2.no\n",
    "data.loc[data['YEDERGLR']==85, 'YEDERGLR'] = np.nan #bad data\n",
    "data.loc[data['YEDERGLR']==94, 'YEDERGLR'] = np.nan #dont know\n",
    "data.loc[data['YEDERGLR']==97, 'YEDERGLR'] = np.nan #refused\n",
    "data.loc[data['YEDERGLR']==98, 'YEDERGLR'] = np.nan #blank\n",
    "data.loc[data['YEDERGLR']==99, 'YEDERGLR'] = np.nan #legimate skip\n",
    "data['YEDERGLR'] = data['YEDERGLR'].fillna(data['YEDERGLR'].mode().loc[0])"
   ]
  },
  {
   "cell_type": "code",
   "execution_count": 35,
   "metadata": {
    "collapsed": true
   },
   "outputs": [],
   "source": [
    "#emotional problems 1.yes 2.no\n",
    "data.loc[data['YUMHCRYR']==94, 'YUMHCRYR'] = np.nan  #dont know\n",
    "data.loc[data['YUMHCRYR']==97, 'YUMHCRYR'] = np.nan  #refused\n",
    "data.loc[data['YUMHCRYR']==85, 'YUMHCRYR'] = np.nan  #bad data\n",
    "data['YUMHCRYR'] = data['YUMHCRYR'].fillna(data['YUMHCRYR'].mode().loc[0])"
   ]
  },
  {
   "cell_type": "code",
   "execution_count": 36,
   "metadata": {
    "collapsed": true
   },
   "outputs": [],
   "source": [
    "# trt for emotional problem 1.yes 2.no\n",
    "data.loc[data['YUTPSTYR']==94, 'YUTPSTYR'] = np.nan #dont know\n",
    "data.loc[data['YUTPSTYR']==97, 'YUTPSTYR'] = np.nan #refused \n",
    "data.loc[data['YUTPSTYR']==85, 'YUTPSTYR'] = np.nan #bad data\n",
    "data['YUTPSTYR'] = data['YUTPSTYR'].fillna(data['YUTPSTYR'].mode().loc[0])"
   ]
  },
  {
   "cell_type": "code",
   "execution_count": 37,
   "metadata": {
    "scrolled": true
   },
   "outputs": [
    {
     "data": {
      "text/plain": [
       "Power_divergenceResult(statistic=49.875989350385183, pvalue=8.4900821961765885e-11)"
      ]
     },
     "execution_count": 37,
     "metadata": {},
     "output_type": "execute_result"
    }
   ],
   "source": [
    "a = 2821\n",
    "b = 12765\n",
    "c = 92\n",
    "d = 904\n",
    "a_e = (a+c)*(a+b)/(a+b+c+d)\n",
    "b_e = a+b-a_e\n",
    "c_e = (a+c)*(c+d)/(a+b+c+d)\n",
    "d_e = c+d-c_e\n",
    "chisquare([a,b,c,d], f_exp=[a_e,b_e,c_e,d_e])"
   ]
  },
  {
   "cell_type": "code",
   "execution_count": 38,
   "metadata": {
    "collapsed": true
   },
   "outputs": [],
   "source": [
    "# attend emotional problem school 1.yes 2.no\n",
    "data.loc[data['YUSCEMYR']==85, 'YUSCEMYR'] = 2\n",
    "data.loc[data['YUSCEMYR']==89, 'YUSCEMYR'] = 2\n",
    "data.loc[data['YUSCEMYR']==94, 'YUSCEMYR'] = 2\n",
    "data.loc[data['YUSCEMYR']==97, 'YUSCEMYR'] = 2\n",
    "data.loc[data['YUSCEMYR']==98, 'YUSCEMYR'] = 2\n",
    "data.loc[data['YUSCEMYR']==99, 'YUSCEMYR'] = 99"
   ]
  },
  {
   "cell_type": "code",
   "execution_count": 39,
   "metadata": {
    "collapsed": true
   },
   "outputs": [],
   "source": [
    "X = data.iloc[:,1:].values\n",
    "y = data.iloc[:,0].values\n",
    "X_t, X_test, y_t, y_test = train_test_split(X, y, test_size=0.3, random_state=42)"
   ]
  },
  {
   "cell_type": "markdown",
   "metadata": {},
   "source": [
    "# Naive Bayes"
   ]
  },
  {
   "cell_type": "markdown",
   "metadata": {},
   "source": [
    "## cross validation"
   ]
  },
  {
   "cell_type": "code",
   "execution_count": 40,
   "metadata": {},
   "outputs": [
    {
     "ename": "ImportError",
     "evalue": "cannot import name ComplementNB",
     "output_type": "error",
     "traceback": [
      "\u001b[0;31m---------------------------------------------------------------------------\u001b[0m",
      "\u001b[0;31mImportError\u001b[0m                               Traceback (most recent call last)",
      "\u001b[0;32m<ipython-input-40-2862685ba636>\u001b[0m in \u001b[0;36m<module>\u001b[0;34m()\u001b[0m\n\u001b[1;32m      1\u001b[0m \u001b[0;32mfrom\u001b[0m \u001b[0msklearn\u001b[0m\u001b[0;34m.\u001b[0m\u001b[0mmodel_selection\u001b[0m \u001b[0;32mimport\u001b[0m \u001b[0mStratifiedKFold\u001b[0m\u001b[0;34m\u001b[0m\u001b[0m\n\u001b[1;32m      2\u001b[0m \u001b[0;32mfrom\u001b[0m \u001b[0msklearn\u001b[0m \u001b[0;32mimport\u001b[0m \u001b[0mmetrics\u001b[0m\u001b[0;34m\u001b[0m\u001b[0m\n\u001b[0;32m----> 3\u001b[0;31m \u001b[0;32mfrom\u001b[0m \u001b[0msklearn\u001b[0m\u001b[0;34m.\u001b[0m\u001b[0mnaive_bayes\u001b[0m \u001b[0;32mimport\u001b[0m \u001b[0mComplementNB\u001b[0m\u001b[0;34m\u001b[0m\u001b[0m\n\u001b[0m\u001b[1;32m      4\u001b[0m \u001b[0;34m\u001b[0m\u001b[0m\n\u001b[1;32m      5\u001b[0m \u001b[0mbest_AUC\u001b[0m \u001b[0;34m=\u001b[0m \u001b[0;36m0\u001b[0m\u001b[0;34m\u001b[0m\u001b[0m\n",
      "\u001b[0;31mImportError\u001b[0m: cannot import name ComplementNB"
     ]
    }
   ],
   "source": [
    "from sklearn.model_selection import StratifiedKFold\n",
    "from sklearn import metrics\n",
    "from sklearn.naive_bayes import ComplementNB\n",
    "\n",
    "best_AUC = 0\n",
    "ros = RandomOverSampler(random_state=0)\n",
    "skf = StratifiedKFold(n_splits=5, random_state=0)\n",
    "skf.get_n_splits(X_t, y_t)\n",
    "for norm in [True, False]:\n",
    "    for alpha in [1e-10, 1.0, 2.0, 3.0]:\n",
    "        AUC = []\n",
    "        for train_index, val_index in skf.split(X_t, y_t):\n",
    "            X_train, X_val = X[train_index], X[val_index]\n",
    "            y_train, y_val = y[train_index], y[val_index]\n",
    "\n",
    "            cnb = ComplementNB(alpha=alpha, norm=norm)\n",
    "            X_resampled, y_resampled = ros.fit_resample(X_train, y_train)\n",
    "            cnb.fit(X_resampled, y_resampled)\n",
    "            pred = cnb.predict_proba(X_val)[:,1]\n",
    "            fpr, tpr, thresholds = metrics.roc_curve(y_val, pred, pos_label=2)\n",
    "            AUC.append(metrics.auc(fpr, tpr))\n",
    "        if np.mean(AUC)>best_AUC:\n",
    "            best_AUC = np.mean(AUC)\n",
    "            best_norm = norm\n",
    "            best_alpha = alpha"
   ]
  },
  {
   "cell_type": "code",
   "execution_count": 48,
   "metadata": {},
   "outputs": [
    {
     "data": {
      "text/plain": [
       "0.76799174945859661"
      ]
     },
     "execution_count": 48,
     "metadata": {},
     "output_type": "execute_result"
    }
   ],
   "source": [
    "best_AUC"
   ]
  },
  {
   "cell_type": "code",
   "execution_count": null,
   "metadata": {
    "collapsed": true
   },
   "outputs": [],
   "source": [
    "best_norm"
   ]
  },
  {
   "cell_type": "code",
   "execution_count": null,
   "metadata": {
    "collapsed": true
   },
   "outputs": [],
   "source": [
    "best_alphapha"
   ]
  },
  {
   "cell_type": "markdown",
   "metadata": {},
   "source": [
    "## evaluation"
   ]
  },
  {
   "cell_type": "code",
   "execution_count": 52,
   "metadata": {},
   "outputs": [
    {
     "data": {
      "image/png": "[encoded data removed]",
      "text/plain": [
       "<Figure size 432x288 with 1 Axes>"
      ]
     },
     "metadata": {},
     "output_type": "display_data"
    },
    {
     "name": "stdout",
     "output_type": "stream",
     "text": [
      "AUC: 0.7679917494585966\n",
      "f1 score: 0.40249210287287546\n",
      "Accuracy: 0.6495180215462083\n"
     ]
    }
   ],
   "source": [
    "import matplotlib.pyplot as plt\n",
    "skf = StratifiedKFold(n_splits=5, random_state=0)\n",
    "skf.get_n_splits(X_t, y_t)\n",
    "mean_fpr = np.linspace(0,1,100)\n",
    "tprs = []\n",
    "AUC = []\n",
    "F = []\n",
    "accuracy = []\n",
    "\n",
    "for train_index, val_index in skf.split(X_t, y_t):\n",
    "    X_train, X_val = X[train_index], X[val_index]\n",
    "    y_train, y_val = y[train_index], y[val_index]\n",
    "\n",
    "    cnb = ComplementNB(norm=best_norm, alpha=best_alpha)\n",
    "    X_resampled, y_resampled = ros.fit_resample(X_train, y_train)\n",
    "    cnb.fit(X_resampled, y_resampled)\n",
    "    pred = cnb.predict_proba(X_val)[:,1]\n",
    "    fpr, tpr, thresholds = metrics.roc_curve(y_val, pred, pos_label=2)\n",
    "    tprs.append(interp(mean_fpr, fpr, tpr))\n",
    "    AUC.append(metrics.auc(fpr, tpr))\n",
    "    pred_val = cnb.predict(X_val)\n",
    "    F.append(metrics.f1_score(y_val, pred_val))\n",
    "    accuracy.append(metrics.accuracy_score(y_val, pred_val))\n",
    "mean_tpr = np.mean(tprs, axis=0)\n",
    "mean_fpr = np.concatenate([[0], mean_fpr])\n",
    "mean_tpr = np.concatenate([[0], mean_tpr])\n",
    "mean_auc = metrics.auc(mean_fpr, mean_tpr)\n",
    "plt.plot(mean_fpr, mean_tpr, color='blue',\n",
    "         label='Complement Naive Bayes (AUC = %0.2f )' % (mean_auc),lw=2, alpha=1)\n",
    "plt.plot([0,1],[0,1],linestyle = '--',lw = 2,color = 'black')\n",
    "plt.xlabel('FPR')\n",
    "plt.ylabel('TPR')\n",
    "plt.title('ROC')\n",
    "plt.legend(loc=\"lower right\")\n",
    "plt.show()\n",
    "print(\"AUC: {}\".format(np.mean(AUC)))\n",
    "print(\"f1 score: {}\".format(np.mean(F)))\n",
    "print(\"Accuracy: {}\".format(np.mean(accuracy)))"
   ]
  },
  {
   "cell_type": "markdown",
   "metadata": {},
   "source": [
    "# Random Forest"
   ]
  },
  {
   "cell_type": "markdown",
   "metadata": {},
   "source": [
    "## cross validation"
   ]
  },
  {
   "cell_type": "code",
   "execution_count": 35,
   "metadata": {
    "collapsed": true
   },
   "outputs": [],
   "source": [
    "from sklearn.ensemble import RandomForestClassifier\n",
    "from sklearn.model_selection import StratifiedKFold\n",
    "from sklearn import metrics\n",
    "\n",
    "best_AUC = 0\n",
    "ros = RandomOverSampler(random_state=0)\n",
    "skf = StratifiedKFold(n_splits=5, random_state=0)\n",
    "skf.get_n_splits(X_t, y_t)\n",
    "for n_estimator in [100, 200, 300, 400, 500, 600]:\n",
    "    for max_depth  in [6,8,10, 12, 15]:\n",
    "        for min_samples_split  in [5e-3, 0.01, 0.015, 0.02]:    \n",
    "            AUC = []\n",
    "            for train_index, val_index in skf.split(X_t, y_t):\n",
    "                X_train, X_val = X[train_index], X[val_index]\n",
    "                y_train, y_val = y[train_index], y[val_index]\n",
    "\n",
    "                rf = RandomForestClassifier(random_state=0, n_estimators=n_estimator, max_depth=max_depth, min_samples_split=min_samples_split)\n",
    "                X_resampled, y_resampled = ros.fit_resample(X_train, y_train)\n",
    "                rf.fit(X_resampled, y_resampled)\n",
    "                pred = rf.predict_proba(X_val)[:,1]\n",
    "                fpr, tpr, thresholds = metrics.roc_curve(y_val, pred, pos_label=2)\n",
    "                AUC.append(metrics.auc(fpr, tpr))\n",
    "            if np.mean(AUC)>best_AUC:\n",
    "                best_AUC = np.mean(AUC)\n",
    "                best_n_estimators = n_estimator\n",
    "                best_max_depth = max_depth\n",
    "                best_min_samples_split = min_samples_split"
   ]
  },
  {
   "cell_type": "code",
   "execution_count": 36,
   "metadata": {},
   "outputs": [
    {
     "name": "stdout",
     "output_type": "stream",
     "text": [
      "0.873160685491 600 10 0.01\n"
     ]
    }
   ],
   "source": [
    "print(best_AUC, best_n_estimators, best_max_depth, best_min_samples_split)"
   ]
  },
  {
   "cell_type": "code",
   "execution_count": 37,
   "metadata": {
    "collapsed": true
   },
   "outputs": [],
   "source": [
    "for n_estimator in [600, 650, 700]:\n",
    "    for max_depth  in [6,8,10, 12, 15]:\n",
    "        for min_samples_split  in [5e-3, 0.01, 0.015, 0.02]:    \n",
    "            AUC = []\n",
    "            for train_index, val_index in skf.split(X_t, y_t):\n",
    "                X_train, X_val = X[train_index], X[val_index]\n",
    "                y_train, y_val = y[train_index], y[val_index]\n",
    "\n",
    "                rf = RandomForestClassifier(random_state=0, n_estimators=n_estimator, max_depth=max_depth, min_samples_split=min_samples_split)\n",
    "                X_resampled, y_resampled = ros.fit_resample(X_train, y_train)\n",
    "                rf.fit(X_resampled, y_resampled)\n",
    "                pred = rf.predict_proba(X_val)[:,1]\n",
    "                fpr, tpr, thresholds = metrics.roc_curve(y_val, pred, pos_label=2)\n",
    "                AUC.append(metrics.auc(fpr, tpr))\n",
    "            if np.mean(AUC)>best_AUC:\n",
    "                best_AUC = np.mean(AUC)\n",
    "                best_n_estimators = n_estimator\n",
    "                best_max_depth = max_depth\n",
    "                best_min_samples_split = min_samples_split"
   ]
  },
  {
   "cell_type": "code",
   "execution_count": 38,
   "metadata": {},
   "outputs": [
    {
     "name": "stdout",
     "output_type": "stream",
     "text": [
      "0.873160685491 600 10 0.01\n"
     ]
    }
   ],
   "source": [
    "print(best_AUC, best_n_estimators, best_max_depth, best_min_samples_split)"
   ]
  },
  {
   "cell_type": "markdown",
   "metadata": {},
   "source": [
    "## evaluation"
   ]
  },
  {
   "cell_type": "code",
   "execution_count": 60,
   "metadata": {},
   "outputs": [
    {
     "data": {
      "image/png": "[encoded data removed]",
      "text/plain": [
       "<Figure size 432x288 with 1 Axes>"
      ]
     },
     "metadata": {},
     "output_type": "display_data"
    },
    {
     "name": "stdout",
     "output_type": "stream",
     "text": [
      "AUC: 0.8731606854913112\n",
      "f1 score: 0.583340786216508\n",
      "Accuracy: 0.8068853531179195\n"
     ]
    }
   ],
   "source": [
    "skf = StratifiedKFold(n_splits=5, random_state=0)\n",
    "skf.get_n_splits(X_t, y_t)\n",
    "mean_fpr = np.linspace(0,1,100)\n",
    "tprs = []\n",
    "AUC = []\n",
    "F = []\n",
    "accuracy = []\n",
    "\n",
    "for train_index, val_index in skf.split(X_t, y_t):\n",
    "    X_train, X_val = X[train_index], X[val_index]\n",
    "    y_train, y_val = y[train_index], y[val_index]\n",
    "    \n",
    "    rf = RandomForestClassifier(random_state=0, n_estimators=best_n_estimators, max_depth=best_max_depth, min_samples_split=best_min_samples_split)\n",
    "    X_resampled, y_resampled = ros.fit_resample(X_train, y_train)\n",
    "    rf.fit(X_resampled, y_resampled)\n",
    "    pred = rf.predict_proba(X_val)[:,1]\n",
    "    fpr, tpr, thresholds = metrics.roc_curve(y_val, pred, pos_label=2)\n",
    "    tprs.append(interp(mean_fpr, fpr, tpr))\n",
    "    AUC.append(metrics.auc(fpr, tpr))\n",
    "    pred_val = rf.predict(X_val)\n",
    "    F.append(metrics.f1_score(y_val, pred_val))\n",
    "    accuracy.append(metrics.accuracy_score(y_val, pred_val))\n",
    "mean_tpr = np.mean(tprs, axis=0)\n",
    "mean_fpr = np.concatenate([[0], mean_fpr])\n",
    "mean_tpr = np.concatenate([[0], mean_tpr])\n",
    "mean_auc = metrics.auc(mean_fpr, mean_tpr)\n",
    "plt.plot(mean_fpr, mean_tpr, color='blue',\n",
    "         label='Complement Naive Bayes (AUC = %0.2f )' % (mean_auc),lw=2, alpha=1)\n",
    "plt.plot([0,1],[0,1],linestyle = '--',lw = 2,color = 'black')\n",
    "plt.xlabel('FPR')\n",
    "plt.ylabel('TPR')\n",
    "plt.title('ROC')\n",
    "plt.legend(loc=\"lower right\")\n",
    "plt.show()\n",
    "print(\"AUC: {}\".format(np.mean(AUC)))\n",
    "print(\"f1 score: {}\".format(np.mean(F)))\n",
    "print(\"Accuracy: {}\".format(np.mean(accuracy)))"
   ]
  },
  {
   "cell_type": "markdown",
   "metadata": {},
   "source": [
    "# XGBoost"
   ]
  },
  {
   "cell_type": "markdown",
   "metadata": {},
   "source": [
    "## cross validation"
   ]
  },
  {
   "cell_type": "code",
   "execution_count": 33,
   "metadata": {
    "collapsed": true
   },
   "outputs": [],
   "source": [
    "from xgboost import XGBClassifier\n",
    "from sklearn.model_selection import StratifiedKFold\n",
    "from sklearn import metrics\n",
    "\n",
    "#fix some parameters\n",
    "learning_rate =0.01\n",
    "gamma = 0.1\n",
    "subsample = 0.8\n",
    "colsample_bytree = 0.8\n",
    "\n",
    "best_AUC = 0\n",
    "ros = RandomOverSampler(random_state=0)\n",
    "skf = StratifiedKFold(n_splits=5, random_state=0)\n",
    "skf.get_n_splits(X_t, y_t)\n",
    "\n",
    "for n_estimator in [200, 300, 400, 500]:\n",
    "    for max_depth  in [3, 5, 7, 9]:\n",
    "        for min_child_weight  in [1, 3, 5, 7]:    \n",
    "            AUC = []\n",
    "            for train_index, val_index in skf.split(X_t, y_t):\n",
    "                X_train, X_val = X[train_index], X[val_index]\n",
    "                y_train, y_val = y[train_index], y[val_index]\n",
    "\n",
    "                xgb = XGBClassifier(learning_rate = learning_rate, n_estimators = n_estimator,max_depth = max_depth,min_child_weight = min_child_weight, \\\n",
    "                                    gamma =gamma, subsample = subsample, colsample_bytree = colsample_bytree)\n",
    "                X_resampled, y_resampled = ros.fit_resample(X_train, y_train)\n",
    "                xgb.fit(X_resampled, y_resampled)\n",
    "                pred = xgb.predict_proba(X_val)[:,1]\n",
    "                fpr, tpr, thresholds = metrics.roc_curve(y_val, pred, pos_label=2)\n",
    "                AUC.append(metrics.auc(fpr, tpr))\n",
    "            if np.mean(AUC)>best_AUC:\n",
    "                best_AUC = np.mean(AUC)\n",
    "                best_n_estimators = n_estimator\n",
    "                best_max_depth = max_depth\n",
    "                best_min_child_weight = min_child_weight\n"
   ]
  },
  {
   "cell_type": "code",
   "execution_count": 34,
   "metadata": {},
   "outputs": [
    {
     "name": "stdout",
     "output_type": "stream",
     "text": [
      "0.874071604835 500 5 5\n"
     ]
    }
   ],
   "source": [
    "print(best_AUC, best_n_estimators, best_max_depth, best_min_child_weight)"
   ]
  },
  {
   "cell_type": "code",
   "execution_count": 35,
   "metadata": {
    "collapsed": true
   },
   "outputs": [],
   "source": [
    "for n_estimator in [600, 700, 900]:\n",
    "    for max_depth  in [3, 5, 7, 9]:\n",
    "        for min_child_weight  in [1, 3, 5, 7]:    \n",
    "            AUC = []\n",
    "            for train_index, val_index in skf.split(X_t, y_t):\n",
    "                X_train, X_val = X[train_index], X[val_index]\n",
    "                y_train, y_val = y[train_index], y[val_index]\n",
    "\n",
    "                xgb = XGBClassifier(learning_rate = learning_rate, n_estimators = n_estimator,max_depth = max_depth,min_child_weight = min_child_weight, \\\n",
    "                                    gamma =gamma, subsample = subsample, colsample_bytree = colsample_bytree)\n",
    "                X_resampled, y_resampled = ros.fit_resample(X_train, y_train)\n",
    "                xgb.fit(X_resampled, y_resampled)\n",
    "                pred = xgb.predict_proba(X_val)[:,1]\n",
    "                fpr, tpr, thresholds = metrics.roc_curve(y_val, pred, pos_label=2)\n",
    "                AUC.append(metrics.auc(fpr, tpr))\n",
    "            if np.mean(AUC)>best_AUC:\n",
    "                best_AUC = np.mean(AUC)\n",
    "                best_n_estimators = n_estimator\n",
    "                best_max_depth = max_depth\n",
    "                best_min_child_weight = min_child_weight"
   ]
  },
  {
   "cell_type": "code",
   "execution_count": 36,
   "metadata": {},
   "outputs": [
    {
     "name": "stdout",
     "output_type": "stream",
     "text": [
      "0.875739734813 900 3 7\n"
     ]
    }
   ],
   "source": [
    "print(best_AUC, best_n_estimators, best_max_depth, best_min_child_weight)"
   ]
  },
  {
   "cell_type": "code",
   "execution_count": 38,
   "metadata": {
    "scrolled": true
   },
   "outputs": [
    {
     "name": "stdout",
     "output_type": "stream",
     "text": [
      "1000 2 5\n",
      "1000 2 7\n",
      "1000 2 9\n",
      "1000 3 5\n",
      "Resfreshed!\n",
      "1000 3 7\n",
      "Resfreshed!\n",
      "1000 3 9\n",
      "1000 5 5\n",
      "1000 5 7\n",
      "1000 5 9\n",
      "1000 7 5\n",
      "1000 7 7\n",
      "1000 7 9\n",
      "1200 2 5\n",
      "1200 2 7\n",
      "1200 2 9\n",
      "1200 3 5\n",
      "Resfreshed!\n",
      "1200 3 7\n",
      "Resfreshed!\n",
      "1200 3 9\n",
      "1200 5 5\n",
      "1200 5 7\n",
      "1200 5 9\n",
      "1200 7 5\n",
      "1200 7 7\n",
      "1200 7 9\n",
      "1400 2 5\n",
      "1400 2 7\n",
      "1400 2 9\n",
      "1400 3 5\n",
      "1400 3 7\n",
      "1400 3 9\n",
      "1400 5 5\n",
      "1400 5 7\n",
      "1400 5 9\n",
      "1400 7 5\n",
      "1400 7 7\n",
      "1400 7 9\n"
     ]
    }
   ],
   "source": [
    "for n_estimator in [1000, 1200, 1400]:\n",
    "    for max_depth  in [2, 3, 5, 7]:\n",
    "        for min_child_weight  in [5, 7, 9]:    \n",
    "            AUC = []\n",
    "            print(n_estimator, max_depth, min_child_weight)\n",
    "            for train_index, val_index in skf.split(X_t, y_t):\n",
    "                X_train, X_val = X[train_index], X[val_index]\n",
    "                y_train, y_val = y[train_index], y[val_index]\n",
    "\n",
    "                xgb = XGBClassifier(learning_rate = learning_rate, n_estimators = n_estimator,max_depth = max_depth,min_child_weight = min_child_weight, \\\n",
    "                                    gamma =gamma, subsample = subsample, colsample_bytree = colsample_bytree)\n",
    "                X_resampled, y_resampled = ros.fit_resample(X_train, y_train)\n",
    "                xgb.fit(X_resampled, y_resampled)\n",
    "                pred = xgb.predict_proba(X_val)[:,1]\n",
    "                fpr, tpr, thresholds = metrics.roc_curve(y_val, pred, pos_label=2)\n",
    "                AUC.append(metrics.auc(fpr, tpr))\n",
    "            if np.mean(AUC)>best_AUC:\n",
    "                print(\"Resfreshed!\")\n",
    "                best_AUC = np.mean(AUC)\n",
    "                best_n_estimators = n_estimator\n",
    "                best_max_depth = max_depth\n",
    "                best_min_child_weight = min_child_weight"
   ]
  },
  {
   "cell_type": "code",
   "execution_count": 39,
   "metadata": {},
   "outputs": [
    {
     "name": "stdout",
     "output_type": "stream",
     "text": [
      "0.876119270665 1200 3 7\n"
     ]
    }
   ],
   "source": [
    "print(best_AUC, best_n_estimators, best_max_depth, best_min_child_weight)"
   ]
  },
  {
   "cell_type": "code",
   "execution_count": 40,
   "metadata": {
    "scrolled": true
   },
   "outputs": [
    {
     "name": "stdout",
     "output_type": "stream",
     "text": [
      "0.05 0.4 0.4\n",
      "Refreshed!\n",
      "0.05 0.4 0.5\n",
      "0.05 0.4 0.6\n",
      "0.05 0.4 0.7\n",
      "0.05 0.5 0.4\n",
      "0.05 0.5 0.5\n",
      "0.05 0.5 0.6\n",
      "0.05 0.5 0.7\n",
      "0.05 0.6 0.4\n",
      "0.05 0.6 0.5\n",
      "0.05 0.6 0.6\n",
      "0.05 0.6 0.7\n",
      "0.05 0.7 0.4\n",
      "0.05 0.7 0.5\n",
      "0.05 0.7 0.6\n",
      "0.05 0.7 0.7\n",
      "0.1 0.4 0.4\n",
      "Refreshed!\n",
      "0.1 0.4 0.5\n",
      "0.1 0.4 0.6\n",
      "0.1 0.4 0.7\n",
      "0.1 0.5 0.4\n",
      "0.1 0.5 0.5\n",
      "0.1 0.5 0.6\n",
      "0.1 0.5 0.7\n",
      "0.1 0.6 0.4\n",
      "0.1 0.6 0.5\n",
      "0.1 0.6 0.6\n",
      "0.1 0.6 0.7\n",
      "0.1 0.7 0.4\n",
      "0.1 0.7 0.5\n",
      "0.1 0.7 0.6\n",
      "0.1 0.7 0.7\n",
      "0.15 0.4 0.4\n",
      "Refreshed!\n",
      "0.15 0.4 0.5\n",
      "0.15 0.4 0.6\n",
      "0.15 0.4 0.7\n",
      "0.15 0.5 0.4\n",
      "0.15 0.5 0.5\n",
      "0.15 0.5 0.6\n",
      "0.15 0.5 0.7\n",
      "0.15 0.6 0.4\n",
      "0.15 0.6 0.5\n",
      "0.15 0.6 0.6\n",
      "0.15 0.6 0.7\n",
      "0.15 0.7 0.4\n",
      "0.15 0.7 0.5\n",
      "0.15 0.7 0.6\n",
      "0.15 0.7 0.7\n"
     ]
    }
   ],
   "source": [
    "ros = RandomOverSampler(random_state=0)\n",
    "skf = StratifiedKFold(n_splits=5, random_state=0)\n",
    "skf.get_n_splits(X_t, y_t)\n",
    "for gamma in [0.05, 0.1, 0.15]:\n",
    "    for subsample  in [0.4, 0.5, 0.6,0.7]:\n",
    "        for colsample_bytree  in [0.4, 0.5, 0.6,0.7]:    \n",
    "            AUC = []\n",
    "            print(gamma, subsample, colsample_bytree)\n",
    "            for train_index, val_index in skf.split(X_t, y_t):\n",
    "                X_train, X_val = X[train_index], X[val_index]\n",
    "                y_train, y_val = y[train_index], y[val_index]\n",
    "\n",
    "                xgb = XGBClassifier(learning_rate = learning_rate, n_estimators=best_n_estimators,max_depth = best_max_depth,min_child_weight = best_min_child_weight, \\\n",
    "                                    gamma =gamma, subsample = subsample, colsample_bytree = colsample_bytree)\n",
    "                X_resampled, y_resampled = ros.fit_resample(X_train, y_train)\n",
    "                xgb.fit(X_resampled, y_resampled)\n",
    "                pred = xgb.predict_proba(X_val)[:,1]\n",
    "                fpr, tpr, thresholds = metrics.roc_curve(y_val, pred, pos_label=2)\n",
    "                AUC.append(metrics.auc(fpr, tpr))\n",
    "            if np.mean(AUC)>best_AUC:\n",
    "                print(\"Refreshed!\")\n",
    "                best_AUC = np.mean(AUC)\n",
    "                best_gamma = gamma\n",
    "                best_subsample = subsample\n",
    "                best_colsample_bytree = colsample_bytree"
   ]
  },
  {
   "cell_type": "code",
   "execution_count": 41,
   "metadata": {},
   "outputs": [
    {
     "name": "stdout",
     "output_type": "stream",
     "text": [
      "0.876603141941 0.15 0.4 0.4\n"
     ]
    }
   ],
   "source": [
    "print(best_AUC, best_gamma, best_subsample, best_colsample_bytree)"
   ]
  },
  {
   "cell_type": "code",
   "execution_count": 42,
   "metadata": {
    "scrolled": true
   },
   "outputs": [
    {
     "name": "stdout",
     "output_type": "stream",
     "text": [
      "0.15 0.2 0.2\n",
      "0.15 0.2 0.3\n",
      "0.15 0.2 0.4\n",
      "0.15 0.3 0.2\n",
      "0.15 0.3 0.3\n",
      "0.15 0.3 0.4\n",
      "Refreshed!\n",
      "0.15 0.4 0.2\n",
      "0.15 0.4 0.3\n",
      "0.15 0.4 0.4\n",
      "0.2 0.2 0.2\n",
      "0.2 0.2 0.3\n",
      "0.2 0.2 0.4\n",
      "0.2 0.3 0.2\n",
      "0.2 0.3 0.3\n",
      "0.2 0.3 0.4\n",
      "0.2 0.4 0.2\n",
      "0.2 0.4 0.3\n",
      "0.2 0.4 0.4\n",
      "0.25 0.2 0.2\n",
      "0.25 0.2 0.3\n",
      "0.25 0.2 0.4\n",
      "0.25 0.3 0.2\n",
      "0.25 0.3 0.3\n",
      "0.25 0.3 0.4\n",
      "0.25 0.4 0.2\n",
      "0.25 0.4 0.3\n",
      "0.25 0.4 0.4\n"
     ]
    }
   ],
   "source": [
    "ros = RandomOverSampler(random_state=0)\n",
    "skf = StratifiedKFold(n_splits=5, random_state=0)\n",
    "skf.get_n_splits(X_t, y_t)\n",
    "for gamma in [0.15, 0.2, 0.25]:\n",
    "    for subsample  in [0.2, 0.3, 0.4]:\n",
    "        for colsample_bytree  in [0.2, 0.3, 0.4]:    \n",
    "            AUC = []\n",
    "            print(gamma, subsample, colsample_bytree)\n",
    "            for train_index, val_index in skf.split(X_t, y_t):\n",
    "                X_train, X_val = X[train_index], X[val_index]\n",
    "                y_train, y_val = y[train_index], y[val_index]\n",
    "\n",
    "                xgb = XGBClassifier(learning_rate = learning_rate, n_estimators=best_n_estimators,max_depth = best_max_depth,min_child_weight = best_min_child_weight, \\\n",
    "                                    gamma =gamma, subsample = subsample, colsample_bytree = colsample_bytree)\n",
    "                X_resampled, y_resampled = ros.fit_resample(X_train, y_train)\n",
    "                xgb.fit(X_resampled, y_resampled)\n",
    "                pred = xgb.predict_proba(X_val)[:,1]\n",
    "                fpr, tpr, thresholds = metrics.roc_curve(y_val, pred, pos_label=2)\n",
    "                AUC.append(metrics.auc(fpr, tpr))\n",
    "            if np.mean(AUC)>best_AUC:\n",
    "                print(\"Refreshed!\")\n",
    "                best_AUC = np.mean(AUC)\n",
    "                best_gamma = gamma\n",
    "                best_subsample = subsample\n",
    "                best_colsample_bytree = colsample_bytree"
   ]
  },
  {
   "cell_type": "code",
   "execution_count": 43,
   "metadata": {},
   "outputs": [
    {
     "name": "stdout",
     "output_type": "stream",
     "text": [
      "0.876636817585 0.15 0.3 0.4\n"
     ]
    }
   ],
   "source": [
    "print(best_AUC, best_gamma, best_subsample, best_colsample_bytree)"
   ]
  },
  {
   "cell_type": "code",
   "execution_count": 44,
   "metadata": {
    "scrolled": true
   },
   "outputs": [
    {
     "name": "stdout",
     "output_type": "stream",
     "text": [
      "0.1 0.2 0.3\n",
      "0.1 0.2 0.4\n",
      "0.1 0.2 0.5\n",
      "0.1 0.3 0.3\n",
      "0.1 0.3 0.4\n",
      "Refreshed!\n",
      "0.1 0.3 0.5\n",
      "0.1 0.4 0.3\n",
      "0.1 0.4 0.4\n",
      "0.1 0.4 0.5\n",
      "0.15 0.2 0.3\n",
      "0.15 0.2 0.4\n",
      "0.15 0.2 0.5\n",
      "0.15 0.3 0.3\n",
      "0.15 0.3 0.4\n",
      "0.15 0.3 0.5\n",
      "0.15 0.4 0.3\n",
      "0.15 0.4 0.4\n",
      "0.15 0.4 0.5\n"
     ]
    }
   ],
   "source": [
    "ros = RandomOverSampler(random_state=0)\n",
    "skf = StratifiedKFold(n_splits=5, random_state=0)\n",
    "skf.get_n_splits(X_t, y_t)\n",
    "for gamma in [0.1, 0.15]:\n",
    "    for subsample  in [0.2, 0.3, 0.4]:\n",
    "        for colsample_bytree  in [0.3, 0.4, 0.5]:    \n",
    "            AUC = []\n",
    "            print(gamma, subsample, colsample_bytree)\n",
    "            for train_index, val_index in skf.split(X_t, y_t):\n",
    "                X_train, X_val = X[train_index], X[val_index]\n",
    "                y_train, y_val = y[train_index], y[val_index]\n",
    "\n",
    "                xgb = XGBClassifier(learning_rate = learning_rate, n_estimators=best_n_estimators,max_depth = best_max_depth,min_child_weight = best_min_child_weight, \\\n",
    "                                    gamma =gamma, subsample = subsample, colsample_bytree = colsample_bytree)\n",
    "                X_resampled, y_resampled = ros.fit_resample(X_train, y_train)\n",
    "                xgb.fit(X_resampled, y_resampled)\n",
    "                pred = xgb.predict_proba(X_val)[:,1]\n",
    "                fpr, tpr, thresholds = metrics.roc_curve(y_val, pred, pos_label=2)\n",
    "                AUC.append(metrics.auc(fpr, tpr))\n",
    "            if np.mean(AUC)>best_AUC:\n",
    "                print(\"Refreshed!\")\n",
    "                best_AUC = np.mean(AUC)\n",
    "                best_gamma = gamma\n",
    "                best_subsample = subsample\n",
    "                best_colsample_bytree = colsample_bytree"
   ]
  },
  {
   "cell_type": "code",
   "execution_count": 46,
   "metadata": {},
   "outputs": [
    {
     "name": "stdout",
     "output_type": "stream",
     "text": [
      "0 0.2 0.3\n",
      "0 0.2 0.4\n",
      "0 0.2 0.5\n",
      "0 0.3 0.3\n",
      "0 0.3 0.4\n",
      "0 0.3 0.5\n",
      "0 0.4 0.3\n",
      "0 0.4 0.4\n",
      "0 0.4 0.5\n",
      "0.05 0.2 0.3\n",
      "0.05 0.2 0.4\n",
      "0.05 0.2 0.5\n",
      "0.05 0.3 0.3\n",
      "0.05 0.3 0.4\n",
      "0.05 0.3 0.5\n",
      "0.05 0.4 0.3\n",
      "0.05 0.4 0.4\n",
      "0.05 0.4 0.5\n"
     ]
    }
   ],
   "source": [
    "ros = RandomOverSampler(random_state=0)\n",
    "skf = StratifiedKFold(n_splits=5, random_state=0)\n",
    "skf.get_n_splits(X_t, y_t)\n",
    "for gamma in [0, 0.05]:\n",
    "    for subsample  in [0.2, 0.3, 0.4]:\n",
    "        for colsample_bytree  in [0.3, 0.4, 0.5]:    \n",
    "            AUC = []\n",
    "            print(gamma, subsample, colsample_bytree)\n",
    "            for train_index, val_index in skf.split(X_t, y_t):\n",
    "                X_train, X_val = X[train_index], X[val_index]\n",
    "                y_train, y_val = y[train_index], y[val_index]\n",
    "\n",
    "                xgb = XGBClassifier(learning_rate = learning_rate, n_estimators=best_n_estimators,max_depth = best_max_depth,min_child_weight = best_min_child_weight, \\\n",
    "                                    gamma =gamma, subsample = subsample, colsample_bytree = colsample_bytree)\n",
    "                X_resampled, y_resampled = ros.fit_resample(X_train, y_train)\n",
    "                xgb.fit(X_resampled, y_resampled)\n",
    "                pred = xgb.predict_proba(X_val)[:,1]\n",
    "                fpr, tpr, thresholds = metrics.roc_curve(y_val, pred, pos_label=2)\n",
    "                AUC.append(metrics.auc(fpr, tpr))\n",
    "            if np.mean(AUC)>best_AUC:\n",
    "                print(\"Refreshed!\")\n",
    "                best_AUC = np.mean(AUC)\n",
    "                best_gamma = gamma\n",
    "                best_subsample = subsample\n",
    "                best_colsample_bytree = colsample_bytree"
   ]
  },
  {
   "cell_type": "code",
   "execution_count": 47,
   "metadata": {},
   "outputs": [
    {
     "name": "stdout",
     "output_type": "stream",
     "text": [
      "0.876641939421 0.1 0.3 0.4\n"
     ]
    }
   ],
   "source": [
    "print(best_AUC, best_gamma, best_subsample, best_colsample_bytree)"
   ]
  },
  {
   "cell_type": "markdown",
   "metadata": {},
   "source": [
    "## evaluation"
   ]
  },
  {
   "cell_type": "code",
   "execution_count": 48,
   "metadata": {},
   "outputs": [
    {
     "data": {
      "image/png": "[encoded data removed]",
      "text/plain": [
       "<Figure size 432x288 with 1 Axes>"
      ]
     },
     "metadata": {},
     "output_type": "display_data"
    },
    {
     "name": "stdout",
     "output_type": "stream",
     "text": [
      "AUC: 0.8766419394209105\n",
      "f1 score: 0.5877251386464561\n",
      "Accuracy: 0.8108297486138524\n"
     ]
    }
   ],
   "source": [
    "import matplotlib.pyplot as plt\n",
    "%matplotlib inline\n",
    "skf = StratifiedKFold(n_splits=5, random_state=0)\n",
    "skf.get_n_splits(X_t, y_t)\n",
    "mean_fpr = np.linspace(0,1,100)\n",
    "tprs = []\n",
    "AUC = []\n",
    "F = []\n",
    "accuracy = []\n",
    "\n",
    "for train_index, val_index in skf.split(X_t, y_t):\n",
    "    X_train, X_val = X[train_index], X[val_index]\n",
    "    y_train, y_val = y[train_index], y[val_index]\n",
    "    \n",
    "    xgb = XGBClassifier(learning_rate = learning_rate, n_estimators=best_n_estimators,max_depth = best_max_depth,min_child_weight = best_min_child_weight, \\\n",
    "                                    gamma = best_gamma, subsample = best_subsample, colsample_bytree = best_colsample_bytree)\n",
    "    X_resampled, y_resampled = ros.fit_resample(X_train, y_train)\n",
    "    xgb.fit(X_resampled, y_resampled)\n",
    "    pred = xgb.predict_proba(X_val)[:,1]\n",
    "    fpr, tpr, thresholds = metrics.roc_curve(y_val, pred, pos_label=2)\n",
    "    tprs.append(interp(mean_fpr, fpr, tpr))\n",
    "    AUC.append(metrics.auc(fpr, tpr))\n",
    "    pred_val = xgb.predict(X_val)\n",
    "    F.append(metrics.f1_score(y_val, pred_val))\n",
    "    accuracy.append(metrics.accuracy_score(y_val, pred_val))\n",
    "mean_tpr = np.mean(tprs, axis=0)\n",
    "mean_fpr = np.concatenate([[0], mean_fpr])\n",
    "mean_tpr = np.concatenate([[0], mean_tpr])\n",
    "mean_auc = metrics.auc(mean_fpr, mean_tpr)\n",
    "plt.plot(mean_fpr, mean_tpr, color='blue',\n",
    "         label='Complement Naive Bayes (AUC = %0.2f )' % (mean_auc),lw=2, alpha=1)\n",
    "plt.plot([0,1],[0,1],linestyle = '--',lw = 2,color = 'black')\n",
    "plt.xlabel('FPR')\n",
    "plt.ylabel('TPR')\n",
    "plt.title('ROC')\n",
    "plt.legend(loc=\"lower right\")\n",
    "plt.show()\n",
    "print(\"AUC: {}\".format(np.mean(AUC)))\n",
    "print(\"f1 score: {}\".format(np.mean(F)))\n",
    "print(\"Accuracy: {}\".format(np.mean(accuracy)))"
   ]
  },
  {
   "cell_type": "code",
   "execution_count": 54,
   "metadata": {
    "collapsed": true
   },
   "outputs": [],
   "source": [
    "import pickle as pkl\n",
    "pkl.dump(mean_fpr, open(\"XGBoost_fpr.pkl\",\"wb\"))\n",
    "pkl.dump(mean_tpr, open(\"XGBoost_tpr.pkl\",\"wb\"))"
   ]
  },
  {
   "cell_type": "markdown",
   "metadata": {},
   "source": [
    "# GBDT"
   ]
  },
  {
   "cell_type": "code",
   "execution_count": null,
   "metadata": {
    "scrolled": true
   },
   "outputs": [
    {
     "name": "stdout",
     "output_type": "stream",
     "text": [
      "200 3 5\n",
      "Refreshed!\n",
      "200 3 25\n",
      "200 3 45\n",
      "200 5 5\n",
      "Refreshed!\n",
      "200 5 25\n",
      "Refreshed!\n",
      "200 5 45\n",
      "200 7 5\n",
      "200 7 25\n",
      "200 7 45\n",
      "200 9 5\n",
      "200 9 25\n",
      "200 9 45\n",
      "400 3 5\n",
      "Refreshed!\n",
      "400 3 25\n",
      "400 3 45\n",
      "400 5 5\n",
      "400 5 25\n",
      "400 5 45\n",
      "400 7 5\n",
      "400 7 25\n",
      "400 7 45\n",
      "400 9 5\n",
      "400 9 25\n",
      "400 9 45\n",
      "600 3 5\n"
     ]
    }
   ],
   "source": [
    "from sklearn.ensemble import GradientBoostingClassifier\n",
    "\n",
    "#fix some parameters\n",
    "learning_rate =0.01\n",
    "#n_estimator = 200\n",
    "#subsample=0.8\n",
    "\n",
    "\n",
    "best_AUC = 0\n",
    "ros = RandomOverSampler(random_state=0)\n",
    "skf = StratifiedKFold(n_splits=5, random_state=0)\n",
    "skf.get_n_splits(X_t, y_t)\n",
    "\n",
    "for n_estimator in [200, 400, 600]:\n",
    "    for max_depth  in [3, 5, 7, 9]:\n",
    "        for min_samples_split  in [5, 25, 45]:    \n",
    "            print(n_estimator, max_depth, min_samples_split)\n",
    "            AUC = []\n",
    "            for train_index, val_index in skf.split(X_t, y_t):\n",
    "                X_train, X_val = X[train_index], X[val_index]\n",
    "                y_train, y_val = y[train_index], y[val_index]\n",
    "\n",
    "                gbdt = GradientBoostingClassifier(learning_rate = learning_rate, n_estimators = n_estimator,max_depth = max_depth,min_samples_split = min_samples_split)\n",
    "                X_resampled, y_resampled = ros.fit_resample(X_train, y_train)\n",
    "                gbdt.fit(X_resampled, y_resampled)\n",
    "                pred = gbdt.predict_proba(X_val)[:,1]\n",
    "                fpr, tpr, thresholds = metrics.roc_curve(y_val, pred, pos_label=2)\n",
    "                AUC.append(metrics.auc(fpr, tpr))\n",
    "            if np.mean(AUC)>best_AUC:\n",
    "                print(\"Refreshed!\")\n",
    "                best_AUC = np.mean(AUC)\n",
    "                best_n_estimators = n_estimator\n",
    "                best_max_depth = max_depth\n",
    "                best_min_samples_split = min_samples_split\n"
   ]
  },
  {
   "cell_type": "code",
   "execution_count": 58,
   "metadata": {},
   "outputs": [
    {
     "name": "stdout",
     "output_type": "stream",
     "text": [
      "0.875947019479 200 3 45\n"
     ]
    }
   ],
   "source": [
    "print(best_AUC, best_n_estimators, best_max_depth, best_min_samples_split)"
   ]
  },
  {
   "cell_type": "code",
   "execution_count": null,
   "metadata": {
    "collapsed": true
   },
   "outputs": [],
   "source": [
    "import matplotlib.pyplot as plt\n",
    "%matplotlib inline\n",
    "skf = StratifiedKFold(n_splits=5, random_state=0)\n",
    "skf.get_n_splits(X_t, y_t)\n",
    "mean_fpr = np.linspace(0,1,100)\n",
    "tprs = []\n",
    "AUC = []\n",
    "F = []\n",
    "accuracy = []\n",
    "\n",
    "for train_index, val_index in skf.split(X_t, y_t):\n",
    "    X_train, X_val = X[train_index], X[val_index]\n",
    "    y_train, y_val = y[train_index], y[val_index]\n",
    "    \n",
    "    xgb = XGBClassifier(learning_rate = learning_rate, n_estimators=best_n_estimators,max_depth = best_max_depth,min_child_weight = best_min_child_weight, \\\n",
    "                                    gamma = best_gamma, subsample = best_subsample, colsample_bytree = best_colsample_bytree)\n",
    "    X_resampled, y_resampled = ros.fit_resample(X_train, y_train)\n",
    "    xgb.fit(X_resampled, y_resampled)\n",
    "    pred = xgb.predict_proba(X_val)[:,1]\n",
    "    fpr, tpr, thresholds = metrics.roc_curve(y_val, pred, pos_label=2)\n",
    "    tprs.append(interp(mean_fpr, fpr, tpr))\n",
    "    AUC.append(metrics.auc(fpr, tpr))\n",
    "    pred_val = xgb.predict(X_val)\n",
    "    F.append(metrics.f1_score(y_val, pred_val))\n",
    "    accuracy.append(metrics.accuracy_score(y_val, pred_val))\n",
    "mean_tpr = np.mean(tprs, axis=0)\n",
    "mean_fpr = np.concatenate([[0], mean_fpr])\n",
    "mean_tpr = np.concatenate([[0], mean_tpr])\n",
    "mean_auc = metrics.auc(mean_fpr, mean_tpr)\n",
    "plt.plot(mean_fpr, mean_tpr, color='blue',\n",
    "         label='Complement Naive Bayes (AUC = %0.2f )' % (mean_auc),lw=2, alpha=1)\n",
    "plt.plot([0,1],[0,1],linestyle = '--',lw = 2,color = 'black')\n",
    "plt.xlabel('FPR')\n",
    "plt.ylabel('TPR')\n",
    "plt.title('ROC')\n",
    "plt.legend(loc=\"lower right\")\n",
    "plt.show()\n",
    "print(\"AUC: {}\".format(np.mean(AUC)))\n",
    "print(\"f1 score: {}\".format(np.mean(F)))\n",
    "print(\"Accuracy: {}\".format(np.mean(accuracy)))"
   ]
  }
 ],
 "metadata": {
  "kernelspec": {
   "display_name": "Python 2",
   "language": "python",
   "name": "python2"
  },
  "language_info": {
   "codemirror_mode": {
    "name": "ipython",
    "version": 2
   },
   "file_extension": ".py",
   "mimetype": "text/x-python",
   "name": "python",
   "nbconvert_exporter": "python",
   "pygments_lexer": "ipython2",
   "version": "2.7.14"
  }
 },
 "nbformat": 4,
 "nbformat_minor": 2
}
